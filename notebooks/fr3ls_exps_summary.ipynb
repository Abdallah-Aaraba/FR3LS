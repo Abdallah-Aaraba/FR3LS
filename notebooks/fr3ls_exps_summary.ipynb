{
 "cells": [
  {
   "cell_type": "code",
   "execution_count": 1,
   "metadata": {
    "pycharm": {
     "name": "#%%\n"
    },
    "tags": []
   },
   "outputs": [
    {
     "name": "stdout",
     "output_type": "stream",
     "text": [
      "/home/local/USHERBROOKE/aara2601/pycharmProjects/FR3LS\n"
     ]
    }
   ],
   "source": [
    "import os\n",
    "import pandas as pd\n",
    "import torch as t\n",
    "import numpy as np\n",
    "\n",
    "if os.path.join(*[i for i in os.getcwd().split(os.sep)[-1:]]) == 'notebooks':\n",
    "    os.chdir(\"../\")\n",
    "print(os.getcwd())"
   ]
  },
  {
   "cell_type": "markdown",
   "metadata": {},
   "source": [
    "## Deterministic Experiments Summary"
   ]
  },
  {
   "cell_type": "code",
   "execution_count": 2,
   "metadata": {},
   "outputs": [
    {
     "data": {
      "text/html": [
       "<div>\n",
       "<style scoped>\n",
       "    .dataframe tbody tr th:only-of-type {\n",
       "        vertical-align: middle;\n",
       "    }\n",
       "\n",
       "    .dataframe tbody tr th {\n",
       "        vertical-align: top;\n",
       "    }\n",
       "\n",
       "    .dataframe thead th {\n",
       "        text-align: right;\n",
       "    }\n",
       "</style>\n",
       "<table border=\"1\" class=\"dataframe\">\n",
       "  <thead>\n",
       "    <tr style=\"text-align: right;\">\n",
       "      <th></th>\n",
       "      <th>EXPERIMENT_NAME</th>\n",
       "      <th>DATASET_NAME</th>\n",
       "      <th>EPOCH</th>\n",
       "      <th>NUM_TEST_WINDOW</th>\n",
       "      <th>HORIZON</th>\n",
       "      <th>TRAINING_LOSS</th>\n",
       "      <th>TESTING_LOSS</th>\n",
       "      <th>MAPE_LOSS</th>\n",
       "      <th>WAPE_LOSS</th>\n",
       "      <th>SMAPE_LOSS</th>\n",
       "    </tr>\n",
       "  </thead>\n",
       "  <tbody>\n",
       "    <tr>\n",
       "      <th>0</th>\n",
       "      <td>repeat=0,train_mode=FR3LS-Det,f_input_window=3...</td>\n",
       "      <td>traffic</td>\n",
       "      <td>979</td>\n",
       "      <td>7</td>\n",
       "      <td>24</td>\n",
       "      <td>0.255</td>\n",
       "      <td>0.012</td>\n",
       "      <td>0.116</td>\n",
       "      <td>0.102</td>\n",
       "      <td>0.090</td>\n",
       "    </tr>\n",
       "    <tr>\n",
       "      <th>1</th>\n",
       "      <td>repeat=0,train_mode=FR3LS-Det,f_input_window=6...</td>\n",
       "      <td>electricity</td>\n",
       "      <td>672</td>\n",
       "      <td>7</td>\n",
       "      <td>24</td>\n",
       "      <td>0.204</td>\n",
       "      <td>510.340</td>\n",
       "      <td>0.127</td>\n",
       "      <td>0.071</td>\n",
       "      <td>0.105</td>\n",
       "    </tr>\n",
       "    <tr>\n",
       "      <th>2</th>\n",
       "      <td>repeat=0,train_mode=FR3LS-Det,f_input_window=1...</td>\n",
       "      <td>wiki</td>\n",
       "      <td>162</td>\n",
       "      <td>4</td>\n",
       "      <td>14</td>\n",
       "      <td>0.381</td>\n",
       "      <td>2865.443</td>\n",
       "      <td>0.463</td>\n",
       "      <td>0.290</td>\n",
       "      <td>0.380</td>\n",
       "    </tr>\n",
       "  </tbody>\n",
       "</table>\n",
       "</div>"
      ],
      "text/plain": [
       "                                     EXPERIMENT_NAME DATASET_NAME  EPOCH  \\\n",
       "0  repeat=0,train_mode=FR3LS-Det,f_input_window=3...      traffic    979   \n",
       "1  repeat=0,train_mode=FR3LS-Det,f_input_window=6...  electricity    672   \n",
       "2  repeat=0,train_mode=FR3LS-Det,f_input_window=1...         wiki    162   \n",
       "\n",
       "   NUM_TEST_WINDOW  HORIZON  TRAINING_LOSS  TESTING_LOSS  MAPE_LOSS  \\\n",
       "0                7       24          0.255         0.012      0.116   \n",
       "1                7       24          0.204       510.340      0.127   \n",
       "2                4       14          0.381      2865.443      0.463   \n",
       "\n",
       "   WAPE_LOSS  SMAPE_LOSS  \n",
       "0      0.102       0.090  \n",
       "1      0.071       0.105  \n",
       "2      0.290       0.380  "
      ]
     },
     "execution_count": 2,
     "metadata": {},
     "output_type": "execute_result"
    }
   ],
   "source": [
    "from summaries.fr3ls_detSummary import FR3LS_DetSummary\n",
    "\n",
    "detSummary = FR3LS_DetSummary()\n",
    "\n",
    "det_experiments_path = \"storage/experiments/fr3ls_det_exps\"\n",
    "\n",
    "det_df_summary = pd.DataFrame()\n",
    "\n",
    "for dataset_name in os.listdir(det_experiments_path):\n",
    "    dataset_path = os.path.join(det_experiments_path, dataset_name)\n",
    "    experiment = os.listdir(dataset_path)[0]\n",
    "    experiment_path = os.path.join(dataset_path, experiment)\n",
    "    detSummary.reset()\n",
    "    detSummary.load_experiment(experiment_path)\n",
    "    detSummary.evaluate()\n",
    "    det_df_summary = pd.concat((det_df_summary, detSummary.summarize()), ignore_index=True)\n",
    "det_df_summary"
   ]
  },
  {
   "cell_type": "markdown",
   "metadata": {},
   "source": [
    "## Probabilistic Experiments Summary"
   ]
  },
  {
   "cell_type": "code",
   "execution_count": 3,
   "metadata": {},
   "outputs": [
    {
     "name": "stdout",
     "output_type": "stream",
     "text": [
      "\n",
      "Evaluating experiment: solar_nips, repeat=0,train_mode=FR3LS-Prob,f_input_window=32,encoder_dims=[256,128,64],non_overlap_batch=12 ...\n"
     ]
    },
    {
     "name": "stderr",
     "output_type": "stream",
     "text": [
      "Running evaluation: 137it [00:01, 86.69it/s]\n",
      "Running evaluation: 137it [00:01, 87.17it/s]\n",
      "Running evaluation: 137it [00:01, 86.12it/s]\n",
      "Running evaluation: 137it [00:01, 85.64it/s]\n",
      "Running evaluation: 137it [00:01, 85.19it/s]\n",
      "Running evaluation: 137it [00:01, 85.46it/s]\n",
      "Running evaluation: 137it [00:01, 86.70it/s]\n",
      "Running evaluation: 137it [00:01, 70.76it/s]\n"
     ]
    },
    {
     "name": "stdout",
     "output_type": "stream",
     "text": [
      "\n",
      "Evaluating experiment: traffic, repeat=0,train_mode=FR3LS-Prob,batch_size=1,f_input_window=32,encoder_dims=[256,128,64],non_overlap_batch=12 ...\n"
     ]
    },
    {
     "name": "stderr",
     "output_type": "stream",
     "text": [
      "Running evaluation: 963it [00:11, 85.77it/s]\n",
      "Running evaluation: 963it [00:11, 85.06it/s]\n",
      "Running evaluation: 963it [00:11, 85.60it/s]\n",
      "Running evaluation: 963it [00:11, 83.80it/s]\n",
      "Running evaluation: 963it [00:11, 85.69it/s]\n",
      "Running evaluation: 963it [00:11, 85.23it/s]\n",
      "Running evaluation: 963it [00:11, 85.47it/s]\n",
      "Running evaluation: 963it [00:14, 68.75it/s]\n"
     ]
    },
    {
     "name": "stdout",
     "output_type": "stream",
     "text": [
      "\n",
      "Evaluating experiment: electricity_nips, repeat=0,train_mode=FR3LS-Prob,f_input_window=32,encoder_dims=[128,64],non_overlap_batch=12 ...\n"
     ]
    },
    {
     "name": "stderr",
     "output_type": "stream",
     "text": [
      "Running evaluation: 369it [00:04, 84.12it/s]\n",
      "Running evaluation: 369it [00:04, 87.01it/s]\n",
      "Running evaluation: 369it [00:04, 87.39it/s]\n",
      "Running evaluation: 369it [00:04, 87.97it/s]\n",
      "Running evaluation: 369it [00:04, 87.70it/s]\n",
      "Running evaluation: 369it [00:04, 87.29it/s]\n",
      "Running evaluation: 369it [00:04, 87.18it/s]\n",
      "Running evaluation: 369it [00:05, 70.42it/s]\n"
     ]
    },
    {
     "name": "stdout",
     "output_type": "stream",
     "text": [
      "\n",
      "Evaluating experiment: taxi_30min, repeat=0,train_mode=FR3LS-Prob,f_input_window=112,encoder_dims=[256,128,64],non_overlap_batch=12 ...\n"
     ]
    },
    {
     "name": "stderr",
     "output_type": "stream",
     "text": [
      "Running evaluation: 1214it [00:14, 84.67it/s]\n",
      "Running evaluation: 1214it [00:14, 84.23it/s]\n",
      "Running evaluation: 1214it [00:14, 85.11it/s]\n",
      "Running evaluation: 1214it [00:14, 85.27it/s]\n",
      "Running evaluation: 1214it [00:14, 84.97it/s]\n",
      "Running evaluation: 1214it [00:14, 85.46it/s]\n",
      "Running evaluation: 1214it [00:14, 84.66it/s]\n",
      "Running evaluation: 1214it [00:14, 85.01it/s]\n",
      "Running evaluation: 1214it [00:14, 85.91it/s]\n",
      "Running evaluation: 1214it [00:14, 85.25it/s]\n",
      "Running evaluation: 1214it [00:14, 84.96it/s]\n",
      "Running evaluation: 1214it [00:14, 85.76it/s]\n",
      "Running evaluation: 1214it [00:14, 84.22it/s]\n",
      "Running evaluation: 1214it [00:14, 85.06it/s]\n",
      "Running evaluation: 1214it [00:14, 85.81it/s]\n",
      "Running evaluation: 1214it [00:14, 84.98it/s]\n",
      "Running evaluation: 1214it [00:14, 85.65it/s]\n",
      "Running evaluation: 1214it [00:14, 85.35it/s]\n",
      "Running evaluation: 1214it [00:14, 84.02it/s]\n",
      "Running evaluation: 1214it [00:14, 85.86it/s]\n",
      "Running evaluation: 1214it [00:14, 85.51it/s]\n",
      "Running evaluation: 1214it [00:14, 84.43it/s]\n",
      "Running evaluation: 1214it [00:14, 85.42it/s]\n",
      "Running evaluation: 1214it [00:14, 85.53it/s]\n",
      "Running evaluation: 1214it [00:14, 83.86it/s]\n",
      "Running evaluation: 1214it [00:14, 85.38it/s]\n",
      "Running evaluation: 1214it [00:14, 84.97it/s]\n",
      "Running evaluation: 1214it [00:14, 84.68it/s]\n",
      "Running evaluation: 1214it [00:14, 85.42it/s]\n",
      "Running evaluation: 1214it [00:14, 84.32it/s]\n",
      "Running evaluation: 1214it [00:14, 84.49it/s]\n",
      "Running evaluation: 1214it [00:14, 85.53it/s]\n",
      "Running evaluation: 1214it [00:14, 85.06it/s]\n",
      "Running evaluation: 1214it [00:14, 85.01it/s]\n",
      "Running evaluation: 1214it [00:14, 85.40it/s]\n",
      "Running evaluation: 1214it [00:14, 84.88it/s]\n",
      "Running evaluation: 1214it [00:14, 84.78it/s]\n",
      "Running evaluation: 1214it [00:14, 82.57it/s]\n",
      "Running evaluation: 1214it [00:14, 84.51it/s]\n",
      "Running evaluation: 1214it [00:14, 84.48it/s]\n",
      "Running evaluation: 1214it [00:14, 84.80it/s]\n",
      "Running evaluation: 1214it [00:14, 84.10it/s]\n",
      "Running evaluation: 1214it [00:14, 85.40it/s]\n",
      "Running evaluation: 1214it [00:14, 85.07it/s]\n",
      "Running evaluation: 1214it [00:14, 84.32it/s]\n",
      "Running evaluation: 1214it [00:14, 84.74it/s]\n",
      "Running evaluation: 1214it [00:14, 85.03it/s]\n",
      "Running evaluation: 1214it [00:14, 84.89it/s]\n",
      "Running evaluation: 1214it [00:14, 85.93it/s]\n",
      "Running evaluation: 1214it [00:14, 82.33it/s]\n",
      "Running evaluation: 1214it [00:14, 85.34it/s]\n",
      "Running evaluation: 1214it [00:14, 85.93it/s]\n",
      "Running evaluation: 1214it [00:14, 85.12it/s]\n",
      "Running evaluation: 1214it [00:14, 85.52it/s]\n",
      "Running evaluation: 1214it [00:14, 85.44it/s]\n",
      "Running evaluation: 1214it [00:14, 85.15it/s]\n",
      "Running evaluation: 1214it [00:46, 26.28it/s]\n"
     ]
    },
    {
     "name": "stdout",
     "output_type": "stream",
     "text": [
      "\n",
      "Evaluating experiment: wiki_nips, repeat=0,train_mode=FR3LS-Prob,f_input_window=64,encoder_dims=[128,64],non_overlap_batch=1 ...\n"
     ]
    },
    {
     "name": "stderr",
     "output_type": "stream",
     "text": [
      "Running evaluation: 2000it [00:25, 79.89it/s]\n",
      "Running evaluation: 2000it [00:24, 81.31it/s]\n",
      "Running evaluation: 2000it [00:23, 83.63it/s]\n",
      "Running evaluation: 2000it [00:23, 83.69it/s]\n",
      "Running evaluation: 2000it [00:24, 82.66it/s]\n",
      "Running evaluation: 2000it [00:29, 66.69it/s]\n"
     ]
    },
    {
     "data": {
      "text/html": [
       "<div>\n",
       "<style scoped>\n",
       "    .dataframe tbody tr th:only-of-type {\n",
       "        vertical-align: middle;\n",
       "    }\n",
       "\n",
       "    .dataframe tbody tr th {\n",
       "        vertical-align: top;\n",
       "    }\n",
       "\n",
       "    .dataframe thead th {\n",
       "        text-align: right;\n",
       "    }\n",
       "</style>\n",
       "<table border=\"1\" class=\"dataframe\">\n",
       "  <thead>\n",
       "    <tr style=\"text-align: right;\">\n",
       "      <th></th>\n",
       "      <th>EXPERIMENT_NAME</th>\n",
       "      <th>DATASET_NAME</th>\n",
       "      <th>EPOCH</th>\n",
       "      <th>NUM_TEST_WINDOW</th>\n",
       "      <th>HORIZON</th>\n",
       "      <th>TRAINING_LOSS</th>\n",
       "      <th>MSE_LOSS</th>\n",
       "      <th>CRPS-SUM</th>\n",
       "    </tr>\n",
       "  </thead>\n",
       "  <tbody>\n",
       "    <tr>\n",
       "      <th>0</th>\n",
       "      <td>repeat=0,train_mode=FR3LS-Prob,f_input_window=...</td>\n",
       "      <td>solar_nips</td>\n",
       "      <td>469</td>\n",
       "      <td>7</td>\n",
       "      <td>24</td>\n",
       "      <td>1.752</td>\n",
       "      <td>3.473403e+02</td>\n",
       "      <td>0.091432</td>\n",
       "    </tr>\n",
       "    <tr>\n",
       "      <th>1</th>\n",
       "      <td>repeat=0,train_mode=FR3LS-Prob,batch_size=1,f_...</td>\n",
       "      <td>traffic</td>\n",
       "      <td>500</td>\n",
       "      <td>7</td>\n",
       "      <td>24</td>\n",
       "      <td>1.300</td>\n",
       "      <td>3.698575e-04</td>\n",
       "      <td>0.056719</td>\n",
       "    </tr>\n",
       "    <tr>\n",
       "      <th>2</th>\n",
       "      <td>repeat=0,train_mode=FR3LS-Prob,f_input_window=...</td>\n",
       "      <td>electricity_nips</td>\n",
       "      <td>198</td>\n",
       "      <td>7</td>\n",
       "      <td>24</td>\n",
       "      <td>1.603</td>\n",
       "      <td>1.399713e+05</td>\n",
       "      <td>0.038222</td>\n",
       "    </tr>\n",
       "    <tr>\n",
       "      <th>3</th>\n",
       "      <td>repeat=0,train_mode=FR3LS-Prob,f_input_window=...</td>\n",
       "      <td>taxi_30min</td>\n",
       "      <td>476</td>\n",
       "      <td>56</td>\n",
       "      <td>24</td>\n",
       "      <td>1.414</td>\n",
       "      <td>2.540586e+01</td>\n",
       "      <td>0.125692</td>\n",
       "    </tr>\n",
       "    <tr>\n",
       "      <th>4</th>\n",
       "      <td>repeat=0,train_mode=FR3LS-Prob,f_input_window=...</td>\n",
       "      <td>wiki_nips</td>\n",
       "      <td>4</td>\n",
       "      <td>7</td>\n",
       "      <td>30</td>\n",
       "      <td>1.924</td>\n",
       "      <td>3.881749e+07</td>\n",
       "      <td>0.243901</td>\n",
       "    </tr>\n",
       "  </tbody>\n",
       "</table>\n",
       "</div>"
      ],
      "text/plain": [
       "                                     EXPERIMENT_NAME      DATASET_NAME  EPOCH  \\\n",
       "0  repeat=0,train_mode=FR3LS-Prob,f_input_window=...        solar_nips    469   \n",
       "1  repeat=0,train_mode=FR3LS-Prob,batch_size=1,f_...           traffic    500   \n",
       "2  repeat=0,train_mode=FR3LS-Prob,f_input_window=...  electricity_nips    198   \n",
       "3  repeat=0,train_mode=FR3LS-Prob,f_input_window=...        taxi_30min    476   \n",
       "4  repeat=0,train_mode=FR3LS-Prob,f_input_window=...         wiki_nips      4   \n",
       "\n",
       "   NUM_TEST_WINDOW  HORIZON  TRAINING_LOSS      MSE_LOSS  CRPS-SUM  \n",
       "0                7       24          1.752  3.473403e+02  0.091432  \n",
       "1                7       24          1.300  3.698575e-04  0.056719  \n",
       "2                7       24          1.603  1.399713e+05  0.038222  \n",
       "3               56       24          1.414  2.540586e+01  0.125692  \n",
       "4                7       30          1.924  3.881749e+07  0.243901  "
      ]
     },
     "execution_count": 3,
     "metadata": {},
     "output_type": "execute_result"
    }
   ],
   "source": [
    "from summaries.fr3ls_probSummary import FR3LS_ProbSummary\n",
    "\n",
    "probSummary = FR3LS_ProbSummary()\n",
    "\n",
    "prob_experiments_path = \"storage/experiments/fr3ls_prob_exps\"\n",
    "\n",
    "prob_df_summary = pd.DataFrame()\n",
    "\n",
    "for dataset_name in os.listdir(prob_experiments_path):\n",
    "    dataset_path = os.path.join(prob_experiments_path, dataset_name)\n",
    "    exp_lis = os.listdir(dataset_path)\n",
    "    experiment = exp_lis[np.where(np.char.startswith(exp_lis, 'repeat'))[0][0]]  # Get the experiment starting with repeat\n",
    "    experiment_path = os.path.join(dataset_path, experiment)\n",
    "    probSummary.reset()\n",
    "    probSummary.load_experiment(experiment_path)\n",
    "    print(\"\\nEvaluating experiment: \" + dataset_name + \", \" + experiment + str(\" ...\"))\n",
    "    probSummary.evaluate()\n",
    "    prob_df_summary = pd.concat((prob_df_summary, probSummary.summarize()), ignore_index=True)\n",
    "    \n",
    "prob_df_summary"
   ]
  }
 ],
 "metadata": {
  "kernelspec": {
   "display_name": "Python 3 (ipykernel)",
   "language": "python",
   "name": "python3"
  },
  "language_info": {
   "codemirror_mode": {
    "name": "ipython",
    "version": 3
   },
   "file_extension": ".py",
   "mimetype": "text/x-python",
   "name": "python",
   "nbconvert_exporter": "python",
   "pygments_lexer": "ipython3",
   "version": "3.10.4"
  }
 },
 "nbformat": 4,
 "nbformat_minor": 4
}
